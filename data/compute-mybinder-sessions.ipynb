{
 "cells": [
  {
   "cell_type": "code",
   "execution_count": 43,
   "id": "120d972c",
   "metadata": {},
   "outputs": [],
   "source": [
    "import numpy as np\n",
    "import pandas as pd"
   ]
  },
  {
   "cell_type": "code",
   "execution_count": 44,
   "id": "fc01ad75",
   "metadata": {},
   "outputs": [],
   "source": [
    "url = \"https://archive.analytics.mybinder.org/index.jsonl\""
   ]
  },
  {
   "cell_type": "code",
   "execution_count": 45,
   "id": "90542a08",
   "metadata": {},
   "outputs": [
    {
     "name": "stdout",
     "output_type": "stream",
     "text": [
      "--2022-04-09 15:03:48--  https://archive.analytics.mybinder.org/index.jsonl\n",
      "Resolving archive.analytics.mybinder.org (archive.analytics.mybinder.org)... 35.239.125.45\n",
      "Connecting to archive.analytics.mybinder.org (archive.analytics.mybinder.org)|35.239.125.45|:443... connected.\n",
      "HTTP request sent, awaiting response... 200 OK\n",
      "Length: 95184 (93K) [application/octet-stream]\n",
      "Saving to: ‘index.jsonl.1’\n",
      "\n",
      "index.jsonl.1       100%[===================>]  92.95K   325KB/s    in 0.3s    \n",
      "\n",
      "2022-04-09 15:03:48 (325 KB/s) - ‘index.jsonl.1’ saved [95184/95184]\n",
      "\n"
     ]
    }
   ],
   "source": [
    "!wget $url"
   ]
  },
  {
   "cell_type": "code",
   "execution_count": 46,
   "id": "96b00742",
   "metadata": {},
   "outputs": [
    {
     "name": "stdout",
     "output_type": "stream",
     "text": [
      "{\"name\": \"events-2018-11-03.jsonl\", \"date\": \"2018-11-03\", \"count\": \"7057\"}\r\n",
      "{\"name\": \"events-2018-11-04.jsonl\", \"date\": \"2018-11-04\", \"count\": \"7489\"}\r\n",
      "{\"name\": \"events-2018-11-05.jsonl\", \"date\": \"2018-11-05\", \"count\": \"13590\"}\r\n",
      "{\"name\": \"events-2018-11-06.jsonl\", \"date\": \"2018-11-06\", \"count\": \"13920\"}\r\n",
      "{\"name\": \"events-2018-11-07.jsonl\", \"date\": \"2018-11-07\", \"count\": \"12766\"}\r\n",
      "{\"name\": \"events-2018-11-08.jsonl\", \"date\": \"2018-11-08\", \"count\": \"14105\"}\r\n",
      "{\"name\": \"events-2018-11-09.jsonl\", \"date\": \"2018-11-09\", \"count\": \"11843\"}\r\n",
      "{\"name\": \"events-2018-11-10.jsonl\", \"date\": \"2018-11-10\", \"count\": \"7047\"}\r\n",
      "{\"name\": \"events-2018-11-11.jsonl\", \"date\": \"2018-11-11\", \"count\": \"6940\"}\r\n",
      "{\"name\": \"events-2018-11-12.jsonl\", \"date\": \"2018-11-12\", \"count\": \"16322\"}\r\n"
     ]
    }
   ],
   "source": [
    "!head index.jsonl"
   ]
  },
  {
   "cell_type": "code",
   "execution_count": 114,
   "id": "2ceb59e1",
   "metadata": {},
   "outputs": [],
   "source": [
    "import json\n",
    "\n",
    "with open('index.jsonl', 'r') as json_file:\n",
    "    json_list = list(json_file)\n",
    "\n",
    "data = []\n",
    "for json_str in json_list:\n",
    "    result = json.loads(json_str)\n",
    "    data.append(result)\n",
    "\n",
    "\n",
    "df = pd.DataFrame(data[0:-1])   # ignore last day - not complete yet\n",
    "\n",
    "df.index = pd.to_datetime(df['date'])\n",
    "df.drop([\"name\", \"date\"], axis=1, inplace=True)\n",
    "df['count'] = df['count'].astype(np.int64)"
   ]
  },
  {
   "cell_type": "code",
   "execution_count": 115,
   "id": "0b71d9bf",
   "metadata": {},
   "outputs": [
    {
     "data": {
      "text/html": [
       "<div>\n",
       "<style scoped>\n",
       "    .dataframe tbody tr th:only-of-type {\n",
       "        vertical-align: middle;\n",
       "    }\n",
       "\n",
       "    .dataframe tbody tr th {\n",
       "        vertical-align: top;\n",
       "    }\n",
       "\n",
       "    .dataframe thead th {\n",
       "        text-align: right;\n",
       "    }\n",
       "</style>\n",
       "<table border=\"1\" class=\"dataframe\">\n",
       "  <thead>\n",
       "    <tr style=\"text-align: right;\">\n",
       "      <th></th>\n",
       "      <th>count</th>\n",
       "    </tr>\n",
       "    <tr>\n",
       "      <th>date</th>\n",
       "      <th></th>\n",
       "    </tr>\n",
       "  </thead>\n",
       "  <tbody>\n",
       "    <tr>\n",
       "      <th>2018-11-03</th>\n",
       "      <td>7057</td>\n",
       "    </tr>\n",
       "    <tr>\n",
       "      <th>2018-11-04</th>\n",
       "      <td>7489</td>\n",
       "    </tr>\n",
       "    <tr>\n",
       "      <th>2018-11-05</th>\n",
       "      <td>13590</td>\n",
       "    </tr>\n",
       "    <tr>\n",
       "      <th>2018-11-06</th>\n",
       "      <td>13920</td>\n",
       "    </tr>\n",
       "    <tr>\n",
       "      <th>2018-11-07</th>\n",
       "      <td>12766</td>\n",
       "    </tr>\n",
       "  </tbody>\n",
       "</table>\n",
       "</div>"
      ],
      "text/plain": [
       "            count\n",
       "date             \n",
       "2018-11-03   7057\n",
       "2018-11-04   7489\n",
       "2018-11-05  13590\n",
       "2018-11-06  13920\n",
       "2018-11-07  12766"
      ]
     },
     "execution_count": 115,
     "metadata": {},
     "output_type": "execute_result"
    }
   ],
   "source": [
    "df.head()"
   ]
  },
  {
   "cell_type": "code",
   "execution_count": 116,
   "id": "311f889d",
   "metadata": {},
   "outputs": [
    {
     "data": {
      "text/html": [
       "<div>\n",
       "<style scoped>\n",
       "    .dataframe tbody tr th:only-of-type {\n",
       "        vertical-align: middle;\n",
       "    }\n",
       "\n",
       "    .dataframe tbody tr th {\n",
       "        vertical-align: top;\n",
       "    }\n",
       "\n",
       "    .dataframe thead th {\n",
       "        text-align: right;\n",
       "    }\n",
       "</style>\n",
       "<table border=\"1\" class=\"dataframe\">\n",
       "  <thead>\n",
       "    <tr style=\"text-align: right;\">\n",
       "      <th></th>\n",
       "      <th>count</th>\n",
       "    </tr>\n",
       "    <tr>\n",
       "      <th>date</th>\n",
       "      <th></th>\n",
       "    </tr>\n",
       "  </thead>\n",
       "  <tbody>\n",
       "    <tr>\n",
       "      <th>2022-04-04</th>\n",
       "      <td>17585</td>\n",
       "    </tr>\n",
       "    <tr>\n",
       "      <th>2022-04-05</th>\n",
       "      <td>19472</td>\n",
       "    </tr>\n",
       "    <tr>\n",
       "      <th>2022-04-06</th>\n",
       "      <td>15604</td>\n",
       "    </tr>\n",
       "    <tr>\n",
       "      <th>2022-04-07</th>\n",
       "      <td>16752</td>\n",
       "    </tr>\n",
       "    <tr>\n",
       "      <th>2022-04-08</th>\n",
       "      <td>12760</td>\n",
       "    </tr>\n",
       "  </tbody>\n",
       "</table>\n",
       "</div>"
      ],
      "text/plain": [
       "            count\n",
       "date             \n",
       "2022-04-04  17585\n",
       "2022-04-05  19472\n",
       "2022-04-06  15604\n",
       "2022-04-07  16752\n",
       "2022-04-08  12760"
      ]
     },
     "execution_count": 116,
     "metadata": {},
     "output_type": "execute_result"
    }
   ],
   "source": [
    "df.tail()"
   ]
  },
  {
   "cell_type": "code",
   "execution_count": 117,
   "id": "8e203a65",
   "metadata": {},
   "outputs": [],
   "source": [
    "# df.plot()"
   ]
  },
  {
   "cell_type": "code",
   "execution_count": 118,
   "id": "a6a8f19e",
   "metadata": {},
   "outputs": [],
   "source": [
    "def report_stats(df):\n",
    "    \n",
    "\n",
    "    total_days = (df.index[-1] - df.index[0]).days\n",
    "    \n",
    "    x = (df.index - df.index[0]).days\n",
    "    lin_reg = np.polyfit(x, df['count'], deg=1)\n",
    "    print(f\"{total_days=}\")\n",
    "    print(f\"{lin_reg=}\")\n",
    "\n",
    "    total_sessions = df['count'].sum()\n",
    "    print(f\"{total_sessions=}\")\n",
    "\n",
    "    average_per_day = int(total_sessions / total_days)\n",
    "    print(f\"{average_per_day=}\")\n",
    "\n",
    "    average_per_week = int(average_per_day * 7)\n",
    "    print(f\"{average_per_week=}\")\n",
    "\n"
   ]
  },
  {
   "cell_type": "code",
   "execution_count": 119,
   "id": "10a40f12",
   "metadata": {},
   "outputs": [
    {
     "name": "stdout",
     "output_type": "stream",
     "text": [
      "Since 2018-11-03 00:00:00\n"
     ]
    }
   ],
   "source": [
    "print(f\"Since {df.index[0]}\")"
   ]
  },
  {
   "cell_type": "code",
   "execution_count": 120,
   "id": "1973e8bb",
   "metadata": {},
   "outputs": [
    {
     "name": "stdout",
     "output_type": "stream",
     "text": [
      "total_days=1252\n",
      "lin_reg=array([   17.1954455 , 10581.30315377])\n",
      "total_sessions=26746102\n",
      "average_per_day=21362\n",
      "average_per_week=149534\n"
     ]
    }
   ],
   "source": [
    "report_stats(df)"
   ]
  },
  {
   "cell_type": "markdown",
   "id": "1494993d",
   "metadata": {},
   "source": [
    "Restrict data to last year:"
   ]
  },
  {
   "cell_type": "code",
   "execution_count": 121,
   "id": "d8ae4721",
   "metadata": {},
   "outputs": [
    {
     "name": "stdout",
     "output_type": "stream",
     "text": [
      "Since 2021-04-08 00:00:00\n"
     ]
    }
   ],
   "source": [
    "df_lastyear = df[-366:]\n",
    "print(f\"Since {df_lastyear.index[0]}\")"
   ]
  },
  {
   "cell_type": "code",
   "execution_count": 122,
   "id": "bc5d7aa6",
   "metadata": {},
   "outputs": [
    {
     "name": "stdout",
     "output_type": "stream",
     "text": [
      "total_days=365\n",
      "lin_reg=array([-3.26193749e+00,  2.95853828e+04])\n",
      "total_sessions=10610369\n",
      "average_per_day=29069\n",
      "average_per_week=203483\n"
     ]
    }
   ],
   "source": [
    "report_stats(df_lastyear)"
   ]
  },
  {
   "cell_type": "code",
   "execution_count": 131,
   "id": "f05daea9",
   "metadata": {},
   "outputs": [
    {
     "name": "stdout",
     "output_type": "stream",
     "text": [
      "from 2021-01-01 00:00:00 to 2021-12-31 00:00:00\n",
      "total_days=364\n",
      "lin_reg=array([7.85616266e+00, 2.68518003e+04])\n",
      "total_sessions=10322792\n",
      "average_per_day=28359\n",
      "average_per_week=198513\n"
     ]
    }
   ],
   "source": [
    "# 2021:\n",
    "df_2021 = df[\"2021-01\":\"2021-12\"]\n",
    "print(f\"from {df_2021.index[0]} to {df_2021.index[-1]}\")\n",
    "report_stats(df_2021)"
   ]
  },
  {
   "cell_type": "code",
   "execution_count": 124,
   "id": "0a353000",
   "metadata": {},
   "outputs": [],
   "source": [
    "import datetime"
   ]
  },
  {
   "cell_type": "code",
   "execution_count": 125,
   "id": "2a80bf3a",
   "metadata": {},
   "outputs": [
    {
     "data": {
      "text/plain": [
       "datetime.datetime(2022, 4, 9, 15, 21, 56, 429084)"
      ]
     },
     "execution_count": 125,
     "metadata": {},
     "output_type": "execute_result"
    }
   ],
   "source": [
    "datetime.datetime.now()"
   ]
  },
  {
   "cell_type": "code",
   "execution_count": 132,
   "id": "a6e4d3cd",
   "metadata": {},
   "outputs": [
    {
     "data": {
      "text/plain": [
       "21284"
      ]
     },
     "execution_count": 132,
     "metadata": {},
     "output_type": "execute_result"
    }
   ],
   "source": []
  },
  {
   "cell_type": "code",
   "execution_count": null,
   "id": "500514dc",
   "metadata": {},
   "outputs": [],
   "source": []
  }
 ],
 "metadata": {
  "kernelspec": {
   "display_name": "Python 3 (ipykernel)",
   "language": "python",
   "name": "python3"
  },
  "language_info": {
   "codemirror_mode": {
    "name": "ipython",
    "version": 3
   },
   "file_extension": ".py",
   "mimetype": "text/x-python",
   "name": "python",
   "nbconvert_exporter": "python",
   "pygments_lexer": "ipython3",
   "version": "3.10.0"
  }
 },
 "nbformat": 4,
 "nbformat_minor": 5
}
